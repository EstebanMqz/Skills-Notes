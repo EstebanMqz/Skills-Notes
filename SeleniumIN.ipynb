{
 "cells": [
  {
   "cell_type": "code",
   "execution_count": null,
   "metadata": {},
   "outputs": [],
   "source": [
    "from selenium import webdriver\n",
    "\n",
    "OperaDriver = webdriver.Opera(executable_path='%LOCALAPPDATA%\\Programs\\Opera\\opera.exe')\n",
    "WebDriver.Opera(executable_path=\"%LOCALAPPDATA%\\Programs\\Opera\\opera.exe\")\n",
    "Job=\n",
    "driver.get(\"www.linkedin.com/jobs/search/?&keywords=<Job_Word1>%20<Job_Word2>&location=<State_Word1>%20<State_Word2>%20<Country>%20&refresh=true\")\n",
    "\n",
    "Sign_Button.click()\n",
    "driver.find_element_by_id(\"username\").send_keys(\"emarquez1895@gmail.com\" + Keys.ENTER)\n",
    "driver.find_element_by_id(\"password\").send_keys(\"IEsteban755\" + Keys.ENTER)\n"
   ]
  }
 ],
 "metadata": {
  "language_info": {
   "name": "python"
  }
 },
 "nbformat": 4,
 "nbformat_minor": 2
}
