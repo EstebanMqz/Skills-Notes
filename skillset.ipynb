{
 "cells": [
  {
   "cell_type": "code",
   "execution_count": 21,
   "metadata": {},
   "outputs": [
    {
     "name": "stdout",
     "output_type": "stream",
     "text": [
      "Requirement already satisfied: selenium in c:\\users\\esteban\\appdata\\local\\programs\\python\\python311\\lib\\site-packages (4.13.0)\n",
      "Requirement already satisfied: urllib3[socks]<3,>=1.26 in c:\\users\\esteban\\appdata\\local\\programs\\python\\python311\\lib\\site-packages (from selenium) (2.0.4)\n",
      "Requirement already satisfied: trio~=0.17 in c:\\users\\esteban\\appdata\\local\\programs\\python\\python311\\lib\\site-packages (from selenium) (0.22.2)\n",
      "Requirement already satisfied: trio-websocket~=0.9 in c:\\users\\esteban\\appdata\\local\\programs\\python\\python311\\lib\\site-packages (from selenium) (0.11.1)\n",
      "Requirement already satisfied: certifi>=2021.10.8 in c:\\users\\esteban\\appdata\\local\\programs\\python\\python311\\lib\\site-packages (from selenium) (2023.7.22)\n",
      "Requirement already satisfied: attrs>=20.1.0 in c:\\users\\esteban\\appdata\\local\\programs\\python\\python311\\lib\\site-packages (from trio~=0.17->selenium) (23.1.0)\n",
      "Requirement already satisfied: sortedcontainers in c:\\users\\esteban\\appdata\\local\\programs\\python\\python311\\lib\\site-packages (from trio~=0.17->selenium) (2.4.0)\n",
      "Requirement already satisfied: idna in c:\\users\\esteban\\appdata\\local\\programs\\python\\python311\\lib\\site-packages (from trio~=0.17->selenium) (3.4)\n",
      "Requirement already satisfied: outcome in c:\\users\\esteban\\appdata\\local\\programs\\python\\python311\\lib\\site-packages (from trio~=0.17->selenium) (1.2.0)\n",
      "Requirement already satisfied: sniffio in c:\\users\\esteban\\appdata\\local\\programs\\python\\python311\\lib\\site-packages (from trio~=0.17->selenium) (1.3.0)\n",
      "Requirement already satisfied: cffi>=1.14 in c:\\users\\esteban\\appdata\\local\\programs\\python\\python311\\lib\\site-packages (from trio~=0.17->selenium) (1.15.1)\n",
      "Requirement already satisfied: wsproto>=0.14 in c:\\users\\esteban\\appdata\\local\\programs\\python\\python311\\lib\\site-packages (from trio-websocket~=0.9->selenium) (1.2.0)\n",
      "Requirement already satisfied: pysocks!=1.5.7,<2.0,>=1.5.6 in c:\\users\\esteban\\appdata\\local\\programs\\python\\python311\\lib\\site-packages (from urllib3[socks]<3,>=1.26->selenium) (1.7.1)\n",
      "Requirement already satisfied: pycparser in c:\\users\\esteban\\appdata\\local\\programs\\python\\python311\\lib\\site-packages (from cffi>=1.14->trio~=0.17->selenium) (2.21)\n",
      "Requirement already satisfied: h11<1,>=0.9.0 in c:\\users\\esteban\\appdata\\local\\programs\\python\\python311\\lib\\site-packages (from wsproto>=0.14->trio-websocket~=0.9->selenium) (0.14.0)\n",
      "Note: you may need to restart the kernel to use updated packages.\n",
      "Note: you may need to restart the kernel to use updated packages.\n"
     ]
    },
    {
     "name": "stderr",
     "output_type": "stream",
     "text": [
      "ERROR: Could not find a version that satisfies the requirement webdriver_manager.opera (from versions: none)\n",
      "ERROR: No matching distribution found for webdriver_manager.opera\n"
     ]
    }
   ],
   "source": [
    "%pip install selenium \n",
    "%pip install webdriver_manager\n"
   ]
  },
  {
   "cell_type": "code",
   "execution_count": 137,
   "metadata": {},
   "outputs": [],
   "source": [
    "import json\n",
    "\n",
    "with open('skillset.json') as f:\n",
    "    skillset_data = json.load(f)\n",
    "\n",
    "# Create README.md with Description at seek(0) while appending formatted .json tag elements ∀ skills.\n",
    "with open('README.md', 'w+') as f:\n",
    "    f.seek(0)\n",
    "    f.write('<link rel=\"stylesheet\" href=\"https://cdn.jsdelivr.net/npm/water.css@2/out/dark.min.css\">\\n\\n'\n",
    "            '<div align=\"center\" style=\"font-family: Arial, sans-serif\">\\n\\n'\n",
    "            '# <div style= color:#c4c8ff> <b>Data Scientist, Data Analyst & ML $_{Eng.}$ Skills </b>:</div></div>\\n\\n'\n",
    "            '<span style=\"font-size: 19.8px;\">\\n\\n'\n",
    "            '### <br><b>Description:</b><br>\\n\\n'\n",
    "            'Process illustration using [`ipynb`](https://github.com/EstebanMqz/Skills-Notes/blob/main/skillset.ipynb) [+w](https://docs.python.org/3/library/functions.html#open) method to transform personal <i>[Tags](https://github.com/EstebanMqz/Skills-Notes/blob/main/skillset.json)</i> in <b>Skills</b> to have them parsed & piped as single expressions inline.<br>\\n'\n",
    "            'Consequently, Perl Regex HTTP queries pattern match-making processes are made to increase UX/UI, while parsing the Skills Tags hyperlinks from corresponding transformed [::marker pseudo-elements](https://developer.mozilla.org/en-US/docs/Web/CSS/::marker) matching LinkedIn Posts @ [`README.md`](https://github.com/EstebanMqz/Skills-Notes/blob/main/README.md).<br>Results in [HTTPS](https://developer.mozilla.org/en-US/docs/Web/HTTP) CI/CD piped & embed in my profile with [HTML](https://developer.mozilla.org/en-US/docs/Web/HTTP): &nbsp; [![Skills.html](https://img.shields.io/badge/Skills.html-0078d7.svg?style=square&logo=html5&logoColor=white)](https://htmlpreview.github.io/?https://github.com/EstebanMqz/Skills-Notes/blob/main/Skills.html). \\n\\n'\n",
    "            '<br><i>For web scrapping automated match-making purposes.</i>\\n\\n\\n</span>\\n\\n'\n",
    "            '<div align=\"right\">\\n'\n",
    "            '<details open>\\n'\n",
    "            '<summary> <div style=\"font-family: Arial, sans-serif; color: #c4c8ff\"> <i><b>Business Inquiries:</i></b> </div> </summary>\\n\\n'\n",
    "            '[<img width=\"40px\" src=\"https://img.icons8.com/ios/50/0e55b3/resume-website.png\">](https://estebanmqz.github.io/EstebanMqz/html/Resume.html)\\n'\n",
    "            '[<img width=\"40px\" src=\"https://img.icons8.com/?size=512&id=MR3dZdlA53te&format=png\">](https://tinyurl.com/bdcny457) \\n'\n",
    "            '[<img width=\"35px\" src=\"https://img.icons8.com/color/452/whatsapp--v1.png\">](https://tinyurl.com/2y86e2wa)\\n'\n",
    "            '[<img width=\"40px\" src=\"https://img.icons8.com/color/452/gmail-new.png\">](mailto:emarquez1895@gmail.com)\\n'\n",
    "            '[<img width=\"40px\" src=\"https://cdn3d.iconscout.com/3d/free/thumb/free-github-6343501-5220956.png?f=webp\">](https://github.com/EstebanMqz?tab=repositories)\\n'\n",
    "            '[<img width=\"40px\" src=\"https://img.icons8.com/color/452/gitlab.png\">](https://gitlab.com/EstebanMqz)\\n\\n'\n",
    "            '</details> </div>\\n\\n'\n",
    "            ':zap: <i>msg powered for <b>Job Application</b> <span style=\"color: #36b368\"> (password)</span></i><br><br>\\n \\n'\n",
    "            )\n",
    "    \n",
    "    # Append numbered list of skills.\n",
    "    counter = 1\n",
    "    for skillset_name, skillset_info in skillset_data.items():\n",
    "        words = skillset_name.split('_')\n",
    "        words = [word.capitalize() for word in words]\n",
    "        skillset_name = '_'.join(words)\n",
    "        if ' ' in skillset_name:\n",
    "            skillset_name = skillset_name.split(' ')[0] + ' ' + skillset_name.split(' ')[1].capitalize() + ' ' + '_'.join(skillset_name.split('_')[2:])\n",
    "        f.write(f'## {counter}. {skillset_name}\\n\\n')\n",
    "        if 'description' in skillset_info:\n",
    "            f.write(f'{skillset_info[\"description\"]}\\n\\n')\n",
    "        if 'tags' in skillset_info:\n",
    "            f.write('### Tags:\\n')\n",
    "            f.writelines(['  - ' + ('#' if not tag.startswith('#') else '') + tag.replace(' ', '-').title() + '\\n' for tag in skillset_info['tags']])\n",
    "            f.write('\\n') \n",
    "        counter += 1\n",
    "\n",
    "    # Add clickable badges for VS Code extensions and customized features.\n",
    "    f.write('\\n\\n\\n\\n ###### References: [![HTML Preview](https://img.shields.io/badge/HTML_Preview-282c34?style=flat-square&logo=github)](https://marketplace.visualstudio.com/items?itemName=tht13.html-preview-vscode)'\n",
    "            '[![Markdown HTML](https://img.shields.io/badge/Markdown_HTML-282c34?style=flat-square&logo=github)](https://github.com/ZhYong10/vscode-markdown-html)'\n",
    "            '[![HTML CSS Support](https://img.shields.io/badge/HTML_CSS_Support-282c34?style=flat-square&logo=github)](https://github.com/ecmel/vscode-html-css)'\n",
    "            '[![HTML CSS](https://img.shields.io/badge/HTML_CSS-282c34?style=flat-square&logo=github)](https://github.com/neptunedesign/vs-html-to-css)\\n\\n'\n",
    "            '<span style=\"font-size: 12px;\"> Among other Extensions & Tools such as custom [![Experimental](https://img.shields.io/badge/Experimental-FF1B2D?style=flat-square&logo=opera&logoColor=gray)](opera://flags) $\\&$ [![DevTools](https://img.shields.io/badge/DevTools-FF1B2D?style=flat-square&logo=opera&logoColor=gray)](https://dev.opera.com/extensions/dev-tools/)<br>'\n",
    "            'for HTML, CSS, JS web interactive editing, debugging $\\&$ network analysis to simulate interconnectivity, etc.\\n </span>')\n",
    "\n",
    "    # Truncate .md to remove old variable content.\n",
    "    f.truncate()"
   ]
  },
  {
   "cell_type": "code",
   "execution_count": 22,
   "metadata": {},
   "outputs": [
    {
     "ename": "AttributeError",
     "evalue": "module 'selenium.webdriver' has no attribute 'Opera'",
     "output_type": "error",
     "traceback": [
      "\u001b[1;31m---------------------------------------------------------------------------\u001b[0m",
      "\u001b[1;31mAttributeError\u001b[0m                            Traceback (most recent call last)",
      "\u001b[1;32mc:\\Users\\Esteban\\Desktop\\Projects\\Github\\Repos_To-do\\Languages\\Other\\Repositories\\Skills-Notes\\skillset.ipynb Cell 3\u001b[0m line \u001b[0;36m3\n\u001b[0;32m      <a href='vscode-notebook-cell:/c%3A/Users/Esteban/Desktop/Projects/Github/Repos_To-do/Languages/Other/Repositories/Skills-Notes/skillset.ipynb#W1sZmlsZQ%3D%3D?line=0'>1</a>\u001b[0m \u001b[39mfrom\u001b[39;00m \u001b[39mselenium\u001b[39;00m \u001b[39mimport\u001b[39;00m webdriver\n\u001b[0;32m      <a href='vscode-notebook-cell:/c%3A/Users/Esteban/Desktop/Projects/Github/Repos_To-do/Languages/Other/Repositories/Skills-Notes/skillset.ipynb#W1sZmlsZQ%3D%3D?line=1'>2</a>\u001b[0m \u001b[39mfrom\u001b[39;00m \u001b[39mwebdriver_manager\u001b[39;00m\u001b[39m.\u001b[39;00m\u001b[39mopera\u001b[39;00m \u001b[39mimport\u001b[39;00m OperaDriverManager\n\u001b[1;32m----> <a href='vscode-notebook-cell:/c%3A/Users/Esteban/Desktop/Projects/Github/Repos_To-do/Languages/Other/Repositories/Skills-Notes/skillset.ipynb#W1sZmlsZQ%3D%3D?line=2'>3</a>\u001b[0m driver \u001b[39m=\u001b[39m webdriver\u001b[39m.\u001b[39;49mOpera(executable_path\u001b[39m=\u001b[39mOperaDriverManager()\u001b[39m.\u001b[39minstall())\n\u001b[0;32m      <a href='vscode-notebook-cell:/c%3A/Users/Esteban/Desktop/Projects/Github/Repos_To-do/Languages/Other/Repositories/Skills-Notes/skillset.ipynb#W1sZmlsZQ%3D%3D?line=4'>5</a>\u001b[0m \u001b[39m# driver = webdriver.Opera(executable_path=\"C:\\\\Users\\\\Esteban\\\\AppData\\\\Local\\\\Programs\\\\Opera\\\\launcher.exe\")\u001b[39;00m\n\u001b[0;32m      <a href='vscode-notebook-cell:/c%3A/Users/Esteban/Desktop/Projects/Github/Repos_To-do/Languages/Other/Repositories/Skills-Notes/skillset.ipynb#W1sZmlsZQ%3D%3D?line=5'>6</a>\u001b[0m \u001b[39m# driver.get('opera:flags')\u001b[39;00m\n\u001b[0;32m      <a href='vscode-notebook-cell:/c%3A/Users/Esteban/Desktop/Projects/Github/Repos_To-do/Languages/Other/Repositories/Skills-Notes/skillset.ipynb#W1sZmlsZQ%3D%3D?line=6'>7</a>\u001b[0m \u001b[39m# enabled_flags = driver.find_elements_by_xpath('//span[contains(@class, \"status-enabled\")]')\u001b[39;00m\n\u001b[1;32m   (...)\u001b[0m\n\u001b[0;32m     <a href='vscode-notebook-cell:/c%3A/Users/Esteban/Desktop/Projects/Github/Repos_To-do/Languages/Other/Repositories/Skills-Notes/skillset.ipynb#W1sZmlsZQ%3D%3D?line=10'>11</a>\u001b[0m \u001b[39m# else:\u001b[39;00m\n\u001b[0;32m     <a href='vscode-notebook-cell:/c%3A/Users/Esteban/Desktop/Projects/Github/Repos_To-do/Languages/Other/Repositories/Skills-Notes/skillset.ipynb#W1sZmlsZQ%3D%3D?line=11'>12</a>\u001b[0m \u001b[39m#     print('No enabled flags found')\u001b[39;00m\n",
      "\u001b[1;31mAttributeError\u001b[0m: module 'selenium.webdriver' has no attribute 'Opera'"
     ]
    }
   ],
   "source": [
    "from selenium import webdriver\n",
    "from webdriver_manager.opera import OperaDriverManager\n",
    "driver = webdriver.Opera(executable_path=OperaDriverManager().install())\n",
    "\n",
    "# driver = webdriver.Opera(executable_path=\"C:\\\\Users\\\\Esteban\\\\AppData\\\\Local\\\\Programs\\\\Opera\\\\launcher.exe\")\n",
    "# driver.get('opera:flags')\n",
    "# enabled_flags = driver.find_elements_by_xpath('//span[contains(@class, \"status-enabled\")]')\n",
    "# if enabled_flags:\n",
    "#     for flag in enabled_flags:\n",
    "#         print(flag.text)\n",
    "# else:\n",
    "#     print('No enabled flags found')"
   ]
  }
 ],
 "metadata": {
  "kernelspec": {
   "display_name": "Python 3",
   "language": "python",
   "name": "python3"
  },
  "language_info": {
   "codemirror_mode": {
    "name": "ipython",
    "version": 3
   },
   "file_extension": ".py",
   "mimetype": "text/x-python",
   "name": "python",
   "nbconvert_exporter": "python",
   "pygments_lexer": "ipython3",
   "version": "3.11.5"
  },
  "orig_nbformat": 4
 },
 "nbformat": 4,
 "nbformat_minor": 2
}
