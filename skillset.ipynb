{
 "cells": [
  {
   "cell_type": "code",
   "execution_count": 11,
   "metadata": {},
   "outputs": [],
   "source": [
    "import json\n",
    "\n",
    "with open('skillset.json') as f:\n",
    "    skillset_data = json.load(f)\n",
    "\n",
    "with open('README.md', 'a') as f:\n",
    "    f.write('\\n')\n",
    "    for skillset_name, skillset_info in skillset_data.items():\n",
    "        f.write(f'# {skillset_name}\\n\\n')\n",
    "        f.write(f'{skillset_info[\"description\"]}\\n\\n')\n",
    "        if 'tags' in skillset_info:\n",
    "            f.write('- Tags:\\n')\n",
    "            for tag in skillset_info['tags']:\n",
    "                f.write(f'  - {tag}\\n')\n",
    "        f.write('\\n')"
   ]
  }
 ],
 "metadata": {
  "kernelspec": {
   "display_name": "Python 3",
   "language": "python",
   "name": "python3"
  },
  "language_info": {
   "codemirror_mode": {
    "name": "ipython",
    "version": 3
   },
   "file_extension": ".py",
   "mimetype": "text/x-python",
   "name": "python",
   "nbconvert_exporter": "python",
   "pygments_lexer": "ipython3",
   "version": "3.11.5"
  },
  "orig_nbformat": 4
 },
 "nbformat": 4,
 "nbformat_minor": 2
}
