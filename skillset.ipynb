{
 "cells": [
  {
   "cell_type": "code",
   "execution_count": 28,
   "metadata": {},
   "outputs": [],
   "source": [
    "import json\n",
    "\n",
    "with open('skillset.json') as f:\n",
    "    skillset_data = json.load(f)\n",
    "\n",
    "#Create README.md with Description at seek(0) while appending formatted .json tag elements ∀ skills.\n",
    "with open('README.md', 'w+') as f:\n",
    "    f.write('\\n\\n'\n",
    "            '<b>Description</b>:\\n\\n'\n",
    "            'Python +w mode for .json elements in Tags which are transformed into a user-friendly/readable .md file with other content for which Perl regex Tag extractions from each of my skills are made. \\n'\n",
    "            'This is in order to have the words & chars expressions for Tags inline,  matched & parsed into valid web-searches patterns piped as valid web hyperlinks in the markdown file. \\n'\n",
    "            '<i>CI/CD Tags hyperlinks for each of my skills @ README.md to https with [html](https://htmlpreview.github.io/?https://github.com/EstebanMqz/Skills-Notes/blob/main/README.html) and parsed to my [profile](https://estebanmqz.github.io/EstebanMqz/html/Resume.html#about).</i>\\n\\n'\n",
    "            )\n",
    "\n",
    "    # Append numbered list of skills.\n",
    "    counter = 1\n",
    "    for skillset_name, skillset_info in skillset_data.items():\n",
    "        words = skillset_name.split('_')\n",
    "        words = [word.capitalize() for word in words]\n",
    "        skillset_name = '_'.join(words)\n",
    "        if ' ' in skillset_name:\n",
    "            skillset_name = skillset_name.split(' ')[0] + ' ' + skillset_name.split(' ')[1].capitalize() + ' ' + '_'.join(skillset_name.split('_')[2:])\n",
    "        f.write(f'## {counter}. {skillset_name}\\n\\n')\n",
    "        if 'description' in skillset_info:\n",
    "            f.write(f'{skillset_info[\"description\"]}\\n\\n')\n",
    "        if 'tags' in skillset_info:\n",
    "            f.write('### Tags:\\n')\n",
    "            f.writelines(['  - ' + ('#' if not tag.startswith('#') else '') + tag.replace(' ', '-').title() + '\\n' for tag in skillset_info['tags']])\n",
    "            f.write('\\n') \n",
    "        counter += 1\n",
    "\n",
    "    # Truncate .md to rm old var.\n",
    "    f.truncate()"
   ]
  }
 ],
 "metadata": {
  "kernelspec": {
   "display_name": "Python 3",
   "language": "python",
   "name": "python3"
  },
  "language_info": {
   "codemirror_mode": {
    "name": "ipython",
    "version": 3
   },
   "file_extension": ".py",
   "mimetype": "text/x-python",
   "name": "python",
   "nbconvert_exporter": "python",
   "pygments_lexer": "ipython3",
   "version": "3.11.5"
  },
  "orig_nbformat": 4
 },
 "nbformat": 4,
 "nbformat_minor": 2
}
